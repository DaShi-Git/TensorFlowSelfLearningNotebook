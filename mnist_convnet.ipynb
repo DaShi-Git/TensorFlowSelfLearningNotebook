{
  "nbformat": 4,
  "nbformat_minor": 0,
  "metadata": {
    "colab": {
      "name": "mnist_convnet",
      "provenance": [],
      "collapsed_sections": [],
      "toc_visible": true,
      "include_colab_link": true
    },
    "kernelspec": {
      "display_name": "Python 3",
      "language": "python",
      "name": "python3"
    },
    "language_info": {
      "codemirror_mode": {
        "name": "ipython",
        "version": 3
      },
      "file_extension": ".py",
      "mimetype": "text/x-python",
      "name": "python",
      "nbconvert_exporter": "python",
      "pygments_lexer": "ipython3",
      "version": "3.7.0"
    }
  },
  "cells": [
    {
      "cell_type": "markdown",
      "metadata": {
        "id": "view-in-github",
        "colab_type": "text"
      },
      "source": [
        "<a href=\"https://colab.research.google.com/github/DaShi-Git/TensorFlowSelfLearningNotebook/blob/main/mnist_convnet.ipynb\" target=\"_parent\"><img src=\"https://colab.research.google.com/assets/colab-badge.svg\" alt=\"Open In Colab\"/></a>"
      ]
    },
    {
      "cell_type": "markdown",
      "metadata": {
        "id": "n3WEm9ZptXDv"
      },
      "source": [
        "# Simple MNIST convnet\n",
        "\n",
        "**Author:** [fchollet](https://twitter.com/fchollet)<br>\n",
        "**Date created:** 2015/06/19<br>\n",
        "**Last modified:** 2020/04/21<br>\n",
        "**Description:** A simple convnet that achieves ~99% test accuracy on MNIST."
      ]
    },
    {
      "cell_type": "markdown",
      "metadata": {
        "id": "bC_CX-EYtXD2"
      },
      "source": [
        "## Setup"
      ]
    },
    {
      "cell_type": "code",
      "metadata": {
        "id": "2y_ZEkBBtXD3"
      },
      "source": [
        "import numpy as np\n",
        "from tensorflow import keras\n",
        "from tensorflow.keras import layers"
      ],
      "execution_count": 2,
      "outputs": []
    },
    {
      "cell_type": "markdown",
      "metadata": {
        "id": "aFpPjFDXtXD4"
      },
      "source": [
        "## Prepare the data"
      ]
    },
    {
      "cell_type": "code",
      "metadata": {
        "id": "JPLlWroYtXD4",
        "colab": {
          "base_uri": "https://localhost:8080/"
        },
        "outputId": "734895ee-8775-4601-c911-dbb0b4ca5eb0"
      },
      "source": [
        "# Model / data parameters\n",
        "num_classes = 10\n",
        "input_shape = (28, 28, 1)\n",
        "\n",
        "# the data, split between train and test sets\n",
        "(x_train, y_train), (x_test, y_test) = keras.datasets.mnist.load_data()\n",
        "print(\"x_train shape:\", x_train.shape)\n",
        "\n",
        "# Scale images to the [0, 1] range\n",
        "x_train = x_train.astype(\"float32\") / 255\n",
        "x_test = x_test.astype(\"float32\") / 255\n",
        "#astype函数用于array中数值类型转换\n",
        "#x = np.array([1, 2, 2.5])\n",
        "#x.astype(int)\n",
        "#输出：array([1, 2, 2])\n",
        "\n",
        "# Make sure images have shape (28, 28, 1)\n",
        "x_train = np.expand_dims(x_train, -1)\n",
        "x_test = np.expand_dims(x_test, -1)\n",
        "#其实感觉expand_dims(a, axis)就是在axis的那一个轴上把数据加上去，这个数据在axis这个轴的0位置。\n",
        "#例如原本为一维的2个数据，axis=0，则shape变为(1,2),axis=1则shape变为(2,1)\n",
        "#再例如 原本为 (2,3),axis=0，则shape变为(1,2,3),axis=1则shape变为(2,1,3)\n",
        "\n",
        "print(\"x_train shape:\", x_train.shape)\n",
        "print(x_train.shape[0], \"train samples\")\n",
        "print(x_test.shape[0], \"test samples\")\n",
        "\n",
        "\n",
        "# convert class vectors to binary class matrices\n",
        "y_train = keras.utils.to_categorical(y_train, num_classes)\n",
        "y_test = keras.utils.to_categorical(y_test, num_classes)"
      ],
      "execution_count": 3,
      "outputs": [
        {
          "output_type": "stream",
          "text": [
            "Downloading data from https://storage.googleapis.com/tensorflow/tf-keras-datasets/mnist.npz\n",
            "11493376/11490434 [==============================] - 0s 0us/step\n",
            "x_train shape: (60000, 28, 28)\n",
            "x_train shape: (60000, 28, 28, 1)\n",
            "60000 train samples\n",
            "10000 test samples\n"
          ],
          "name": "stdout"
        }
      ]
    },
    {
      "cell_type": "markdown",
      "metadata": {
        "id": "zYJlimCwtXD4"
      },
      "source": [
        "## Build the model"
      ]
    },
    {
      "cell_type": "code",
      "metadata": {
        "id": "zfCDqUtqtXD5",
        "colab": {
          "base_uri": "https://localhost:8080/"
        },
        "outputId": "a3778c5e-0184-418a-a700-c082527fd14a"
      },
      "source": [
        "model = keras.Sequential(\n",
        "    [\n",
        "        keras.Input(shape=input_shape),\n",
        "        layers.Conv2D(32, kernel_size=(3, 3), activation=\"relu\"),\n",
        "     #原来卷积层里也有激活函数呀，之前居然不知道。卷积层也要引入非线性。如果activation没定义的话默认没有激活\n",
        "        layers.MaxPooling2D(pool_size=(2, 2)),\n",
        "        layers.Conv2D(64, kernel_size=(3, 3), activation=\"relu\"),\n",
        "        layers.MaxPooling2D(pool_size=(2, 2)),\n",
        "        layers.Flatten(),\n",
        "     #Flatten层，即把一个 Tensor 展平\n",
        "        layers.Dropout(0.5),\n",
        "        layers.Dense(num_classes, activation=\"softmax\"),\n",
        "    ]\n",
        ")\n",
        "\n",
        "model.summary()"
      ],
      "execution_count": 4,
      "outputs": [
        {
          "output_type": "stream",
          "text": [
            "Model: \"sequential\"\n",
            "_________________________________________________________________\n",
            "Layer (type)                 Output Shape              Param #   \n",
            "=================================================================\n",
            "conv2d (Conv2D)              (None, 26, 26, 32)        320       \n",
            "_________________________________________________________________\n",
            "max_pooling2d (MaxPooling2D) (None, 13, 13, 32)        0         \n",
            "_________________________________________________________________\n",
            "conv2d_1 (Conv2D)            (None, 11, 11, 64)        18496     \n",
            "_________________________________________________________________\n",
            "max_pooling2d_1 (MaxPooling2 (None, 5, 5, 64)          0         \n",
            "_________________________________________________________________\n",
            "flatten (Flatten)            (None, 1600)              0         \n",
            "_________________________________________________________________\n",
            "dropout (Dropout)            (None, 1600)              0         \n",
            "_________________________________________________________________\n",
            "dense (Dense)                (None, 10)                16010     \n",
            "=================================================================\n",
            "Total params: 34,826\n",
            "Trainable params: 34,826\n",
            "Non-trainable params: 0\n",
            "_________________________________________________________________\n"
          ],
          "name": "stdout"
        }
      ]
    },
    {
      "cell_type": "markdown",
      "metadata": {
        "id": "lN2z_vxctXD5"
      },
      "source": [
        "## Train the model"
      ]
    },
    {
      "cell_type": "code",
      "metadata": {
        "id": "VT16llCItXD6",
        "colab": {
          "base_uri": "https://localhost:8080/"
        },
        "outputId": "73546beb-4901-4910-9e31-ecfd4398f299"
      },
      "source": [
        "batch_size = 128\n",
        "epochs = 15\n",
        "\n",
        "model.compile(loss=\"categorical_crossentropy\", optimizer=\"adam\", metrics=[\"accuracy\"])\n",
        "\n",
        "model.fit(x_train, y_train, batch_size=batch_size, epochs=epochs, validation_split=0.1)"
      ],
      "execution_count": 5,
      "outputs": [
        {
          "output_type": "stream",
          "text": [
            "Epoch 1/15\n",
            "422/422 [==============================] - 36s 83ms/step - loss: 0.7797 - accuracy: 0.7605 - val_loss: 0.0814 - val_accuracy: 0.9790\n",
            "Epoch 2/15\n",
            "422/422 [==============================] - 34s 82ms/step - loss: 0.1203 - accuracy: 0.9635 - val_loss: 0.0559 - val_accuracy: 0.9858\n",
            "Epoch 3/15\n",
            "422/422 [==============================] - 35s 82ms/step - loss: 0.0863 - accuracy: 0.9737 - val_loss: 0.0501 - val_accuracy: 0.9880\n",
            "Epoch 4/15\n",
            "422/422 [==============================] - 34s 82ms/step - loss: 0.0742 - accuracy: 0.9764 - val_loss: 0.0451 - val_accuracy: 0.9882\n",
            "Epoch 5/15\n",
            "422/422 [==============================] - 34s 81ms/step - loss: 0.0616 - accuracy: 0.9811 - val_loss: 0.0420 - val_accuracy: 0.9890\n",
            "Epoch 6/15\n",
            "422/422 [==============================] - 34s 81ms/step - loss: 0.0520 - accuracy: 0.9829 - val_loss: 0.0372 - val_accuracy: 0.9900\n",
            "Epoch 7/15\n",
            "422/422 [==============================] - 34s 81ms/step - loss: 0.0520 - accuracy: 0.9842 - val_loss: 0.0347 - val_accuracy: 0.9903\n",
            "Epoch 8/15\n",
            "422/422 [==============================] - 34s 81ms/step - loss: 0.0426 - accuracy: 0.9863 - val_loss: 0.0326 - val_accuracy: 0.9905\n",
            "Epoch 9/15\n",
            "422/422 [==============================] - 34s 81ms/step - loss: 0.0416 - accuracy: 0.9871 - val_loss: 0.0320 - val_accuracy: 0.9912\n",
            "Epoch 10/15\n",
            "422/422 [==============================] - 34s 81ms/step - loss: 0.0381 - accuracy: 0.9875 - val_loss: 0.0329 - val_accuracy: 0.9912\n",
            "Epoch 11/15\n",
            "422/422 [==============================] - 34s 81ms/step - loss: 0.0331 - accuracy: 0.9897 - val_loss: 0.0313 - val_accuracy: 0.9912\n",
            "Epoch 12/15\n",
            "422/422 [==============================] - 35s 82ms/step - loss: 0.0360 - accuracy: 0.9883 - val_loss: 0.0310 - val_accuracy: 0.9923\n",
            "Epoch 13/15\n",
            "422/422 [==============================] - 35s 82ms/step - loss: 0.0328 - accuracy: 0.9896 - val_loss: 0.0327 - val_accuracy: 0.9902\n",
            "Epoch 14/15\n",
            "422/422 [==============================] - 35s 82ms/step - loss: 0.0325 - accuracy: 0.9894 - val_loss: 0.0293 - val_accuracy: 0.9925\n",
            "Epoch 15/15\n",
            "422/422 [==============================] - 35s 82ms/step - loss: 0.0285 - accuracy: 0.9910 - val_loss: 0.0289 - val_accuracy: 0.9920\n"
          ],
          "name": "stdout"
        },
        {
          "output_type": "execute_result",
          "data": {
            "text/plain": [
              "<tensorflow.python.keras.callbacks.History at 0x7f3bfdf47d10>"
            ]
          },
          "metadata": {
            "tags": []
          },
          "execution_count": 5
        }
      ]
    },
    {
      "cell_type": "markdown",
      "metadata": {
        "id": "xycb_EvBtXD6"
      },
      "source": [
        "## Evaluate the trained model"
      ]
    },
    {
      "cell_type": "code",
      "metadata": {
        "id": "T81payTOtXD6",
        "colab": {
          "base_uri": "https://localhost:8080/"
        },
        "outputId": "614d0c10-ea66-4f00-ec54-fdfe7b15bb44"
      },
      "source": [
        "score = model.evaluate(x_test, y_test, verbose=0)\n",
        "print(\"Test loss:\", score[0])\n",
        "print(\"Test accuracy:\", score[1])"
      ],
      "execution_count": 6,
      "outputs": [
        {
          "output_type": "stream",
          "text": [
            "Test loss: 0.023020349442958832\n",
            "Test accuracy: 0.9919999837875366\n"
          ],
          "name": "stdout"
        }
      ]
    }
  ]
}